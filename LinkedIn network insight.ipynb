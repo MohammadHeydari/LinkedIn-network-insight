{
 "cells": [
  {
   "cell_type": "code",
   "execution_count": null,
   "metadata": {},
   "outputs": [],
   "source": [
    "import numpy as np\n",
    "import pandas as pd"
   ]
  },
  {
   "cell_type": "code",
   "execution_count": null,
   "metadata": {},
   "outputs": [],
   "source": [
    "def grouping(df,column,showOnes=True):\n",
    "    \n",
    "    groups = df[['Last Name',column]].groupby(column,as_index=False).count().sort_values(['Last Name'],ascending=False)\n",
    "    groups=groups.rename(columns={'Last Name':'Persons'})\n",
    "    print('\\n\\n Number of Persons in {}:\\n'.format(column))\n",
    "    if not showOnes:\n",
    "        groups=groups[groups['Persons'] > 1]\n",
    "    print(groups.to_string(index=False))\n",
    "    return groups\n",
    "\n",
    "def showUndefineds(df,column):\n",
    "    \n",
    "    print('\\n\\nValue(s) is UNDEFIEND in {}:\\n'.format(column))  \n",
    "    for index,r in df.iterrows():\n",
    "        if r[column]=='UNDEFINED':\n",
    "            print(r[column[1:]])\n",
    "\n",
    "\n"
   ]
  },
  {
   "cell_type": "code",
   "execution_count": null,
   "metadata": {},
   "outputs": [],
   "source": [
    "df = pd.read_csv('connections.csv',na_filter=True)\n",
    "df=df.drop(columns=['Email Address','Connected On']). dropna() \n",
    "master=df"
   ]
  },
  {
   "cell_type": "code",
   "execution_count": null,
   "metadata": {},
   "outputs": [],
   "source": [
    "# define parent Position and Company keywords in priority. \n",
    "\n",
    "PPositions=['Data','Machine Learning','Artificial Intelligence','Research','Founder','Developer','Professor','CEO']\n",
    "\n",
    "PCompany=['University','Group','Bank','Co','institute']\n",
    "\n",
    "\n",
    "# labeling based on keywords\n",
    "master['PCompany']='UNDEFINED'\n",
    "master['PPosition']='UNDEFINED'\n",
    "for index,r in master.iterrows():\n",
    "    for p in PPositions:\n",
    "        if p.lower() in r['Position'].lower():\n",
    "            r['PPosition']=p\n",
    "            break\n",
    "    for c in PCompany:\n",
    "        if c.lower() in r['Company'].lower():\n",
    "            r['PCompany']=c\n",
    "            break\n",
    "            \n"
   ]
  },
  {
   "cell_type": "code",
   "execution_count": null,
   "metadata": {},
   "outputs": [],
   "source": [
    "grouping(master,column='Position',showOnes=False)\n",
    "grouping(master,column='PPosition',showOnes=False)\n",
    "grouping(master,column='Company',showOnes=False)\n",
    "grouping(master,column='PCompany',showOnes=False)\n",
    "print()\n"
   ]
  },
  {
   "cell_type": "code",
   "execution_count": null,
   "metadata": {},
   "outputs": [],
   "source": [
    "# if you want to know which Position or Company is UNDEFINED\n",
    "showUndefineds(master,'PPosition')\n",
    "showUndefineds(master,'PCompany')"
   ]
  },
  {
   "cell_type": "code",
   "execution_count": null,
   "metadata": {},
   "outputs": [],
   "source": [
    "# Visualization of Network Using Plotly\n",
    "import plotly.express as px\n",
    "px.treemap(master, path=[  'Position','Company'], width=1200, height=1200)"
   ]
  }
 ],
 "metadata": {
  "kernelspec": {
   "display_name": "Python 3",
   "language": "python",
   "name": "python3"
  },
  "language_info": {
   "codemirror_mode": {
    "name": "ipython",
    "version": 3
   },
   "file_extension": ".py",
   "mimetype": "text/x-python",
   "name": "python",
   "nbconvert_exporter": "python",
   "pygments_lexer": "ipython3",
   "version": "3.6.7"
  }
 },
 "nbformat": 4,
 "nbformat_minor": 4
}
